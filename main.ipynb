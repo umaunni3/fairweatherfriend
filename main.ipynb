{
 "cells": [
  {
   "cell_type": "markdown",
   "metadata": {},
   "source": [
    "# Imports"
   ]
  },
  {
   "cell_type": "code",
   "execution_count": 1,
   "metadata": {
    "ExecuteTime": {
     "end_time": "2020-10-24T18:09:43.467078Z",
     "start_time": "2020-10-24T18:09:43.316483Z"
    }
   },
   "outputs": [],
   "source": [
    "# import required modules \n",
    "import requests, json "
   ]
  },
  {
   "cell_type": "markdown",
   "metadata": {},
   "source": [
    "# Pulling weather data"
   ]
  },
  {
   "cell_type": "markdown",
   "metadata": {},
   "source": [
    "Code from https://www.geeksforgeeks.org/python-find-current-weather-of-any-city-using-openweathermap-api/"
   ]
  },
  {
   "cell_type": "code",
   "execution_count": 58,
   "metadata": {
    "ExecuteTime": {
     "end_time": "2020-10-24T22:03:31.433278Z",
     "start_time": "2020-10-24T22:03:31.423344Z"
    }
   },
   "outputs": [],
   "source": [
    "def get_weather(city_name):\n",
    "    \"\"\"\n",
    "    Takes a city name, and returns a dictionary of weather and location data. \n",
    "    \"\"\"\n",
    "    # Python program to find current  \n",
    "    # weather details of any city \n",
    "    # using openweathermap api \n",
    "\n",
    "    # Enter your API key here \n",
    "    api_key = \"9291be5e6daedb7e3a4a03f8857a8d5f\"\n",
    "\n",
    "    # base_url variable to store url \n",
    "    base_url = \"http://api.openweathermap.org/data/2.5/weather?\"\n",
    "\n",
    "    # complete_url variable to store \n",
    "    # complete url address \n",
    "    complete_url = base_url + \"appid=\" + api_key + \"&q=\" + city_name \n",
    "\n",
    "    # get method of requests module \n",
    "    # return response object \n",
    "    response = requests.get(complete_url) \n",
    "\n",
    "    # json method of response object  \n",
    "    # convert json format data into \n",
    "    # python format data \n",
    "    x = response.json() \n",
    "    \n",
    "    # Now x contains list of nested dictionaries \n",
    "    # Check the value of \"cod\" key is equal to \n",
    "    # \"404\", means city is found otherwise, \n",
    "    # city is not found \n",
    "    if x[\"cod\"] != \"404\": \n",
    "        output_dict = {}\n",
    "        output_dict['temp'] = x['main']['temp']\n",
    "        output_dict['feels_like'] = x['main']['feels_like']\n",
    "        output_dict['humidity'] = x['main']['humidity']\n",
    "        output_dict['clouds'] = x['clouds']['all']\n",
    "        output_dict['wind_speed'] = x['wind']['speed']\n",
    "        if 'rain' not in x.keys():\n",
    "            output_dict['rain'] = 0\n",
    "        else:\n",
    "            output_dict['rain'] = x['rain']['1h']\n",
    "        if 'snow' not in x.keys():\n",
    "            output_dict['snow'] = 0\n",
    "        else:\n",
    "            output_dict['snow'] = x['snow']['1h']\n",
    "        return output_dict \n",
    "    else: \n",
    "        print(\" City Not Found \") \n",
    "        return None"
   ]
  },
  {
   "cell_type": "code",
   "execution_count": 59,
   "metadata": {
    "ExecuteTime": {
     "end_time": "2020-10-24T22:03:33.990727Z",
     "start_time": "2020-10-24T22:03:33.738894Z"
    }
   },
   "outputs": [
    {
     "data": {
      "text/plain": [
       "{'temp': 291.47,\n",
       " 'feels_like': 289.99,\n",
       " 'humidity': 48,\n",
       " 'clouds': 90,\n",
       " 'wind_speed': 1.15,\n",
       " 'rain': 0,\n",
       " 'snow': 0}"
      ]
     },
     "execution_count": 59,
     "metadata": {},
     "output_type": "execute_result"
    }
   ],
   "source": [
    "atx = get_weather(\"Austin\")\n",
    "atx"
   ]
  },
  {
   "cell_type": "markdown",
   "metadata": {},
   "source": [
    "# Returning weather assessment\n",
    "\n",
    "A function for returning the predicted response of the user to the weather (negative or positive)"
   ]
  },
  {
   "cell_type": "code",
   "execution_count": 61,
   "metadata": {
    "ExecuteTime": {
     "end_time": "2020-10-24T22:08:06.594671Z",
     "start_time": "2020-10-24T22:08:06.587691Z"
    }
   },
   "outputs": [],
   "source": [
    "def assess_weather(weather_dict, user_preferences = None):\n",
    "    \"\"\"\n",
    "    Takes as input a dictionary with the weather parameters of interest:\n",
    "        - temp\n",
    "        - feels_like\n",
    "        - humidity\n",
    "        - clouds \n",
    "        - wind_speed\n",
    "        - rain\n",
    "        - snow\n",
    "    Current implementation looks for a dictionary with a 'main' key, coresponding to a subdictionary\n",
    "        which contains a 'temp' entry \n",
    "    Also takes user_preferences which is \n",
    "        TODO: DECIDE HOW TO INPUT THE USER PREFERENCES\n",
    "    if user_preferences = None, use default temp cutoff\n",
    "    Returns -1 or 1, for negative or positive predicted user response to weather.\n",
    "    \"\"\"\n",
    "    temp = weather_dict['feels_like'] # temperature in Kelvin\n",
    "    if user_preferences == None:\n",
    "        if temp > 294: # corresponds to 70 F \n",
    "            return 1\n",
    "        else:\n",
    "            return -1\n",
    "    else:\n",
    "        pass"
   ]
  },
  {
   "cell_type": "code",
   "execution_count": 62,
   "metadata": {
    "ExecuteTime": {
     "end_time": "2020-10-24T22:08:09.048842Z",
     "start_time": "2020-10-24T22:08:09.041861Z"
    }
   },
   "outputs": [
    {
     "data": {
      "text/plain": [
       "-1"
      ]
     },
     "execution_count": 62,
     "metadata": {},
     "output_type": "execute_result"
    }
   ],
   "source": [
    "assess_weather(atx, None)"
   ]
  },
  {
   "cell_type": "markdown",
   "metadata": {},
   "source": [
    "# Learning user preferences\n",
    "\n",
    "Suppose that a user's opinion of the weather is based on the average temperature, temperature spread, precipitation, and cloud coverage. \n",
    "Further suppose that a user's weather preferences may be similar to the preferences in their region (for cold start). \n",
    "\n",
    "Our initialization procedure can therefore be "
   ]
  },
  {
   "cell_type": "code",
   "execution_count": null,
   "metadata": {},
   "outputs": [],
   "source": [
    "def learn_preferences()"
   ]
  },
  {
   "cell_type": "markdown",
   "metadata": {},
   "source": [
    "# Recommendation on sad days\n",
    "\n",
    "For this, we can have a few simple options\n",
    "* Inspirational quote\n",
    "* * Weather related quotes? \n",
    "* * Fun facts\n",
    "* Recommendation for mitigating the negative effect of the weather directly (umbrella, sunscreen, etc) \n",
    "* Netflix recommendation"
   ]
  },
  {
   "cell_type": "code",
   "execution_count": 55,
   "metadata": {
    "ExecuteTime": {
     "end_time": "2020-10-24T21:27:32.168302Z",
     "start_time": "2020-10-24T21:27:32.164292Z"
    }
   },
   "outputs": [],
   "source": [
    "def bad_weather_rec():\n",
    "    quotes = [\n",
    "        \"The greatest glory in living lies not in never falling, but in rising every time we fall.\", \n",
    "        \"The way to get started is to quit talking and begin doing.\", \n",
    "        \"Your time is limited, so don't waste it living someone else's life. Don't be trapped by dogma – which is living with the results of other people's thinking.\"\n",
    "    ]\n",
    "    return np.random.choice(quotes)"
   ]
  },
  {
   "cell_type": "code",
   "execution_count": 56,
   "metadata": {
    "ExecuteTime": {
     "end_time": "2020-10-24T21:27:33.516290Z",
     "start_time": "2020-10-24T21:27:33.510304Z"
    }
   },
   "outputs": [
    {
     "data": {
      "text/plain": [
       "'The way to get started is to quit talking and begin doing.'"
      ]
     },
     "execution_count": 56,
     "metadata": {},
     "output_type": "execute_result"
    }
   ],
   "source": [
    "bad_weather_rec()"
   ]
  },
  {
   "cell_type": "markdown",
   "metadata": {},
   "source": [
    "# Give result to user"
   ]
  },
  {
   "cell_type": "code",
   "execution_count": null,
   "metadata": {},
   "outputs": [],
   "source": [
    "def get_user_preferences(user):\n",
    "    \"\"\"\n",
    "    \n",
    "    \"\"\""
   ]
  },
  {
   "cell_type": "code",
   "execution_count": null,
   "metadata": {},
   "outputs": [],
   "source": [
    "def main(user, )"
   ]
  }
 ],
 "metadata": {
  "kernelspec": {
   "display_name": "Python 3",
   "language": "python",
   "name": "python3"
  },
  "language_info": {
   "codemirror_mode": {
    "name": "ipython",
    "version": 3
   },
   "file_extension": ".py",
   "mimetype": "text/x-python",
   "name": "python",
   "nbconvert_exporter": "python",
   "pygments_lexer": "ipython3",
   "version": "3.7.2"
  },
  "latex_envs": {
   "LaTeX_envs_menu_present": true,
   "autoclose": false,
   "autocomplete": true,
   "bibliofile": "biblio.bib",
   "cite_by": "apalike",
   "current_citInitial": 1,
   "eqLabelWithNumbers": true,
   "eqNumInitial": 1,
   "hotkeys": {
    "equation": "Ctrl-E",
    "itemize": "Ctrl-I"
   },
   "labels_anchors": false,
   "latex_user_defs": false,
   "report_style_numbering": false,
   "user_envs_cfg": false
  },
  "toc": {
   "base_numbering": 1,
   "nav_menu": {},
   "number_sections": true,
   "sideBar": true,
   "skip_h1_title": false,
   "title_cell": "Table of Contents",
   "title_sidebar": "Contents",
   "toc_cell": false,
   "toc_position": {},
   "toc_section_display": true,
   "toc_window_display": false
  },
  "varInspector": {
   "cols": {
    "lenName": 16,
    "lenType": 16,
    "lenVar": 40
   },
   "kernels_config": {
    "python": {
     "delete_cmd_postfix": "",
     "delete_cmd_prefix": "del ",
     "library": "var_list.py",
     "varRefreshCmd": "print(var_dic_list())"
    },
    "r": {
     "delete_cmd_postfix": ") ",
     "delete_cmd_prefix": "rm(",
     "library": "var_list.r",
     "varRefreshCmd": "cat(var_dic_list()) "
    }
   },
   "types_to_exclude": [
    "module",
    "function",
    "builtin_function_or_method",
    "instance",
    "_Feature"
   ],
   "window_display": false
  }
 },
 "nbformat": 4,
 "nbformat_minor": 2
}
