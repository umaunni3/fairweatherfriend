{
 "cells": [
  {
   "cell_type": "markdown",
   "metadata": {},
   "source": [
    "# Imports"
   ]
  },
  {
   "cell_type": "code",
   "execution_count": 1,
   "metadata": {
    "ExecuteTime": {
     "end_time": "2020-10-24T18:09:43.467078Z",
     "start_time": "2020-10-24T18:09:43.316483Z"
    }
   },
   "outputs": [],
   "source": [
    "# import required modules \n",
    "import requests, json "
   ]
  },
  {
   "cell_type": "markdown",
   "metadata": {},
   "source": [
    "# Pull weather data"
   ]
  },
  {
   "cell_type": "markdown",
   "metadata": {},
   "source": [
    "Code from https://www.geeksforgeeks.org/python-find-current-weather-of-any-city-using-openweathermap-api/"
   ]
  },
  {
   "cell_type": "code",
   "execution_count": 9,
   "metadata": {
    "ExecuteTime": {
     "end_time": "2020-10-24T18:30:13.754600Z",
     "start_time": "2020-10-24T18:30:13.745624Z"
    }
   },
   "outputs": [],
   "source": [
    "def get_weather(city_name):\n",
    "    # Python program to find current  \n",
    "    # weather details of any city \n",
    "    # using openweathermap api \n",
    "\n",
    "    # Enter your API key here \n",
    "    api_key = \"9291be5e6daedb7e3a4a03f8857a8d5f\"\n",
    "\n",
    "    # base_url variable to store url \n",
    "    base_url = \"http://api.openweathermap.org/data/2.5/weather?\"\n",
    "\n",
    "    # complete_url variable to store \n",
    "    # complete url address \n",
    "    complete_url = base_url + \"appid=\" + api_key + \"&q=\" + city_name \n",
    "\n",
    "    # get method of requests module \n",
    "    # return response object \n",
    "    response = requests.get(complete_url) \n",
    "\n",
    "    # json method of response object  \n",
    "    # convert json format data into \n",
    "    # python format data \n",
    "    x = response.json() \n",
    "    \n",
    "    # Now x contains list of nested dictionaries \n",
    "    # Check the value of \"cod\" key is equal to \n",
    "    # \"404\", means city is found otherwise, \n",
    "    # city is not found \n",
    "    if x[\"cod\"] != \"404\": \n",
    "        return x\n",
    "    else: \n",
    "        print(\" City Not Found \") \n",
    "        return None"
   ]
  },
  {
   "cell_type": "code",
   "execution_count": 10,
   "metadata": {
    "ExecuteTime": {
     "end_time": "2020-10-24T18:30:14.176488Z",
     "start_time": "2020-10-24T18:30:14.018909Z"
    }
   },
   "outputs": [
    {
     "data": {
      "text/plain": [
       "{'coord': {'lon': -97.74, 'lat': 30.27},\n",
       " 'weather': [{'id': 804,\n",
       "   'main': 'Clouds',\n",
       "   'description': 'overcast clouds',\n",
       "   'icon': '04d'}],\n",
       " 'base': 'stations',\n",
       " 'main': {'temp': 288.57,\n",
       "  'feels_like': 285.52,\n",
       "  'temp_min': 287.59,\n",
       "  'temp_max': 289.26,\n",
       "  'pressure': 1021,\n",
       "  'humidity': 48},\n",
       " 'visibility': 10000,\n",
       " 'wind': {'speed': 2.6, 'deg': 0},\n",
       " 'clouds': {'all': 90},\n",
       " 'dt': 1603564134,\n",
       " 'sys': {'type': 1,\n",
       "  'id': 3344,\n",
       "  'country': 'US',\n",
       "  'sunrise': 1603543170,\n",
       "  'sunset': 1603583423},\n",
       " 'timezone': -18000,\n",
       " 'id': 4671654,\n",
       " 'name': 'Austin',\n",
       " 'cod': 200}"
      ]
     },
     "execution_count": 10,
     "metadata": {},
     "output_type": "execute_result"
    }
   ],
   "source": [
    "get_weather(\"Austin\")"
   ]
  },
  {
   "cell_type": "code",
   "execution_count": null,
   "metadata": {},
   "outputs": [],
   "source": []
  }
 ],
 "metadata": {
  "kernelspec": {
   "display_name": "Python 3",
   "language": "python",
   "name": "python3"
  },
  "language_info": {
   "codemirror_mode": {
    "name": "ipython",
    "version": 3
   },
   "file_extension": ".py",
   "mimetype": "text/x-python",
   "name": "python",
   "nbconvert_exporter": "python",
   "pygments_lexer": "ipython3",
   "version": "3.7.2"
  },
  "latex_envs": {
   "LaTeX_envs_menu_present": true,
   "autoclose": false,
   "autocomplete": true,
   "bibliofile": "biblio.bib",
   "cite_by": "apalike",
   "current_citInitial": 1,
   "eqLabelWithNumbers": true,
   "eqNumInitial": 1,
   "hotkeys": {
    "equation": "Ctrl-E",
    "itemize": "Ctrl-I"
   },
   "labels_anchors": false,
   "latex_user_defs": false,
   "report_style_numbering": false,
   "user_envs_cfg": false
  },
  "toc": {
   "base_numbering": 1,
   "nav_menu": {},
   "number_sections": true,
   "sideBar": true,
   "skip_h1_title": false,
   "title_cell": "Table of Contents",
   "title_sidebar": "Contents",
   "toc_cell": false,
   "toc_position": {},
   "toc_section_display": true,
   "toc_window_display": false
  },
  "varInspector": {
   "cols": {
    "lenName": 16,
    "lenType": 16,
    "lenVar": 40
   },
   "kernels_config": {
    "python": {
     "delete_cmd_postfix": "",
     "delete_cmd_prefix": "del ",
     "library": "var_list.py",
     "varRefreshCmd": "print(var_dic_list())"
    },
    "r": {
     "delete_cmd_postfix": ") ",
     "delete_cmd_prefix": "rm(",
     "library": "var_list.r",
     "varRefreshCmd": "cat(var_dic_list()) "
    }
   },
   "types_to_exclude": [
    "module",
    "function",
    "builtin_function_or_method",
    "instance",
    "_Feature"
   ],
   "window_display": false
  }
 },
 "nbformat": 4,
 "nbformat_minor": 2
}
