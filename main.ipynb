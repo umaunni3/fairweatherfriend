{
 "cells": [
  {
   "cell_type": "markdown",
   "metadata": {},
   "source": [
    "# Imports"
   ]
  },
  {
   "cell_type": "code",
   "execution_count": 237,
   "metadata": {
    "ExecuteTime": {
     "end_time": "2020-10-25T01:12:56.440894Z",
     "start_time": "2020-10-25T01:12:56.434916Z"
    }
   },
   "outputs": [],
   "source": [
    "# import required modules \n",
    "import requests, json\n",
    "import pandas as pd\n",
    "import numpy as np\n",
    "from sklearn.model_selection import KFold\n",
    "from sklearn.linear_model import LogisticRegression\n",
    "from sklearn.model_selection import GridSearchCV\n",
    "import datetime\n",
    "import matplotlib.pyplot as plt"
   ]
  },
  {
   "cell_type": "markdown",
   "metadata": {
    "heading_collapsed": true
   },
   "source": [
    "# Dummy data"
   ]
  },
  {
   "cell_type": "code",
   "execution_count": 275,
   "metadata": {
    "ExecuteTime": {
     "end_time": "2020-10-25T01:27:34.509539Z",
     "start_time": "2020-10-25T01:27:34.472670Z"
    },
    "hidden": true
   },
   "outputs": [
    {
     "data": {
      "text/html": [
       "<div>\n",
       "<style scoped>\n",
       "    .dataframe tbody tr th:only-of-type {\n",
       "        vertical-align: middle;\n",
       "    }\n",
       "\n",
       "    .dataframe tbody tr th {\n",
       "        vertical-align: top;\n",
       "    }\n",
       "\n",
       "    .dataframe thead th {\n",
       "        text-align: right;\n",
       "    }\n",
       "</style>\n",
       "<table border=\"1\" class=\"dataframe\">\n",
       "  <thead>\n",
       "    <tr style=\"text-align: right;\">\n",
       "      <th></th>\n",
       "      <th>dt</th>\n",
       "      <th>temp</th>\n",
       "      <th>humidity</th>\n",
       "      <th>clouds</th>\n",
       "      <th>wind_speed</th>\n",
       "      <th>rain</th>\n",
       "      <th>snow</th>\n",
       "      <th>feels_like</th>\n",
       "    </tr>\n",
       "  </thead>\n",
       "  <tbody>\n",
       "    <tr>\n",
       "      <th>0</th>\n",
       "      <td>2020-10-24 20:27:34.485600</td>\n",
       "      <td>300.469303</td>\n",
       "      <td>62.707139</td>\n",
       "      <td>18.955416</td>\n",
       "      <td>4.253614</td>\n",
       "      <td>0.000000</td>\n",
       "      <td>0.000000</td>\n",
       "      <td>298.471672</td>\n",
       "    </tr>\n",
       "    <tr>\n",
       "      <th>1</th>\n",
       "      <td>2020-10-23 20:27:34.485600</td>\n",
       "      <td>296.618688</td>\n",
       "      <td>19.740569</td>\n",
       "      <td>43.075172</td>\n",
       "      <td>1.975134</td>\n",
       "      <td>0.000000</td>\n",
       "      <td>34.440730</td>\n",
       "      <td>296.057075</td>\n",
       "    </tr>\n",
       "    <tr>\n",
       "      <th>2</th>\n",
       "      <td>2020-10-22 20:27:34.485600</td>\n",
       "      <td>297.975478</td>\n",
       "      <td>33.560630</td>\n",
       "      <td>60.475985</td>\n",
       "      <td>5.327826</td>\n",
       "      <td>1.091643</td>\n",
       "      <td>7.950884</td>\n",
       "      <td>300.101407</td>\n",
       "    </tr>\n",
       "    <tr>\n",
       "      <th>3</th>\n",
       "      <td>2020-10-21 20:27:34.485600</td>\n",
       "      <td>289.096899</td>\n",
       "      <td>14.254232</td>\n",
       "      <td>102.249271</td>\n",
       "      <td>4.318032</td>\n",
       "      <td>6.535955</td>\n",
       "      <td>0.000000</td>\n",
       "      <td>288.530578</td>\n",
       "    </tr>\n",
       "    <tr>\n",
       "      <th>4</th>\n",
       "      <td>2020-10-20 20:27:34.485600</td>\n",
       "      <td>300.570511</td>\n",
       "      <td>43.947067</td>\n",
       "      <td>52.202776</td>\n",
       "      <td>5.591904</td>\n",
       "      <td>7.094828</td>\n",
       "      <td>12.008798</td>\n",
       "      <td>301.292910</td>\n",
       "    </tr>\n",
       "  </tbody>\n",
       "</table>\n",
       "</div>"
      ],
      "text/plain": [
       "                          dt        temp   humidity      clouds  wind_speed  \\\n",
       "0 2020-10-24 20:27:34.485600  300.469303  62.707139   18.955416    4.253614   \n",
       "1 2020-10-23 20:27:34.485600  296.618688  19.740569   43.075172    1.975134   \n",
       "2 2020-10-22 20:27:34.485600  297.975478  33.560630   60.475985    5.327826   \n",
       "3 2020-10-21 20:27:34.485600  289.096899  14.254232  102.249271    4.318032   \n",
       "4 2020-10-20 20:27:34.485600  300.570511  43.947067   52.202776    5.591904   \n",
       "\n",
       "       rain       snow  feels_like  \n",
       "0  0.000000   0.000000  298.471672  \n",
       "1  0.000000  34.440730  296.057075  \n",
       "2  1.091643   7.950884  300.101407  \n",
       "3  6.535955   0.000000  288.530578  \n",
       "4  7.094828  12.008798  301.292910  "
      ]
     },
     "execution_count": 275,
     "metadata": {},
     "output_type": "execute_result"
    }
   ],
   "source": [
    "np.random.seed(429)\n",
    "base = datetime.datetime.today()\n",
    "numsamples = 100\n",
    "train_prefs = pd.DataFrame({\n",
    "    \"dt\" : [base - datetime.timedelta(days=x) for x in range(numsamples)],\n",
    "    \"temp\": np.random.normal(loc = 293, scale = 5, size = numsamples), \n",
    "    \"humidity\": 50 + np.random.normal(scale = 25, size = numsamples),\n",
    "    \"clouds\": 50 + np.random.normal(scale = 25, size = numsamples), \n",
    "    \"wind_speed\": np.random.gamma(shape = 5, size = numsamples),\n",
    "    \"rain\" : [0 if i < 0 else i for i in np.random.normal(scale = 10, size = numsamples)],\n",
    "    \"snow\" : [0 if i < 0 else i for i in np.random.normal(scale = 10, size = numsamples)]\n",
    "})\n",
    "train_prefs['feels_like'] = train_prefs['temp'] + np.random.normal(scale = 2, size = numsamples)\n",
    "train_prefs['rating'] = [np.random.binomial(1, .95) if i > 293 else \n",
    "              np.random.binomial(1, .05) for i in train_prefs['temp']]\n",
    "train_prefs['rating'] = train_prefs['rating'].replace(0, -1)\n",
    "\n",
    "\n",
    "test_prefs = pd.DataFrame({\n",
    "    \"dt\" : [base - datetime.timedelta(days=x) for x in range(numsamples)],\n",
    "    \"temp\": np.random.normal(loc = 293, scale = 5, size = numsamples), \n",
    "    \"humidity\": 50 + np.random.normal(scale = 25, size = numsamples),\n",
    "    \"clouds\": 50 + np.random.normal(scale = 25, size = numsamples), \n",
    "    \"wind_speed\": np.random.gamma(shape = 5, size = numsamples),\n",
    "    \"rain\" : [0 if i < 0 else i for i in np.random.normal(scale = 10, size = numsamples)],\n",
    "    \"snow\" : [0 if i < 0 else i for i in np.random.normal(scale = 10, size = numsamples)]\n",
    "})\n",
    "test_prefs['feels_like'] = test_prefs['temp'] + np.random.normal(scale = 2, size = numsamples)\n",
    "\n",
    "test_prefs.head()"
   ]
  },
  {
   "cell_type": "code",
   "execution_count": 212,
   "metadata": {
    "ExecuteTime": {
     "end_time": "2020-10-24T23:46:01.790859Z",
     "start_time": "2020-10-24T23:46:01.557725Z"
    },
    "hidden": true
   },
   "outputs": [
    {
     "data": {
      "image/png": "[encoded data removed]",
      "text/plain": [
       "<Figure size 1080x360 with 1 Axes>"
      ]
     },
     "metadata": {
      "needs_background": "light"
     },
     "output_type": "display_data"
    }
   ],
   "source": [
    "plt.figure(figsize = (15, 5))\n",
    "plt.scatter(train_prefs['temp'], train_prefs['rating'])\n",
    "plt.title('dummy data, T vs rating')\n",
    "plt.vlines(293, -1, 1)\n",
    "plt.xlabel('T (K)')\n",
    "plt.ylabel('rating');"
   ]
  },
  {
   "cell_type": "markdown",
   "metadata": {},
   "source": [
    "# Pulling weather data"
   ]
  },
  {
   "cell_type": "markdown",
   "metadata": {},
   "source": [
    "Code from https://www.geeksforgeeks.org/python-find-current-weather-of-any-city-using-openweathermap-api/"
   ]
  },
  {
   "cell_type": "code",
   "execution_count": 58,
   "metadata": {
    "ExecuteTime": {
     "end_time": "2020-10-24T22:03:31.433278Z",
     "start_time": "2020-10-24T22:03:31.423344Z"
    },
    "code_folding": [
     0
    ]
   },
   "outputs": [],
   "source": [
    "def get_weather(city_name):\n",
    "    \"\"\"\n",
    "    Takes a city name, and returns a dictionary of weather and location data. \n",
    "    \"\"\"\n",
    "    # Python program to find current  \n",
    "    # weather details of any city \n",
    "    # using openweathermap api \n",
    "\n",
    "    # Enter your API key here \n",
    "    api_key = \"9291be5e6daedb7e3a4a03f8857a8d5f\"\n",
    "\n",
    "    # base_url variable to store url \n",
    "    base_url = \"http://api.openweathermap.org/data/2.5/weather?\"\n",
    "\n",
    "    # complete_url variable to store \n",
    "    # complete url address \n",
    "    complete_url = base_url + \"appid=\" + api_key + \"&q=\" + city_name \n",
    "\n",
    "    # get method of requests module \n",
    "    # return response object \n",
    "    response = requests.get(complete_url) \n",
    "\n",
    "    # json method of response object  \n",
    "    # convert json format data into \n",
    "    # python format data \n",
    "    x = response.json() \n",
    "    \n",
    "    # Now x contains list of nested dictionaries \n",
    "    # Check the value of \"cod\" key is equal to \n",
    "    # \"404\", means city is found otherwise, \n",
    "    # city is not found \n",
    "    if x[\"cod\"] != \"404\": \n",
    "        output_dict = {}\n",
    "        output_dict['temp'] = x['main']['temp']\n",
    "        output_dict['feels_like'] = x['main']['feels_like']\n",
    "        output_dict['humidity'] = x['main']['humidity']\n",
    "        output_dict['clouds'] = x['clouds']['all']\n",
    "        output_dict['wind_speed'] = x['wind']['speed']\n",
    "        if 'rain' not in x.keys():\n",
    "            output_dict['rain'] = 0\n",
    "        else:\n",
    "            output_dict['rain'] = x['rain']['1h']\n",
    "        if 'snow' not in x.keys():\n",
    "            output_dict['snow'] = 0\n",
    "        else:\n",
    "            output_dict['snow'] = x['snow']['1h']\n",
    "        return output_dict \n",
    "    else: \n",
    "        print(\" City Not Found \") \n",
    "        return None"
   ]
  },
  {
   "cell_type": "code",
   "execution_count": 318,
   "metadata": {
    "ExecuteTime": {
     "end_time": "2020-10-25T02:48:16.372573Z",
     "start_time": "2020-10-25T02:48:15.947318Z"
    }
   },
   "outputs": [
    {
     "data": {
      "image/png": "[encoded data removed]",
      "text/plain": [
       "<PIL.PngImagePlugin.PngImageFile image mode=RGBA size=50x50 at 0x2DBE3212FD0>"
      ]
     },
     "execution_count": 318,
     "metadata": {},
     "output_type": "execute_result"
    }
   ],
   "source": [
    "from PIL import Image\n",
    "import requests\n",
    "from io import BytesIO\n",
    "url = 'http://openweathermap.org/img/w/03n.png'\n",
    "response = requests.get(url)\n",
    "img = Image.open(BytesIO(response.content))\n",
    "img"
   ]
  },
  {
   "cell_type": "markdown",
   "metadata": {},
   "source": [
    "## Tests"
   ]
  },
  {
   "cell_type": "code",
   "execution_count": 59,
   "metadata": {
    "ExecuteTime": {
     "end_time": "2020-10-24T22:03:33.990727Z",
     "start_time": "2020-10-24T22:03:33.738894Z"
    },
    "scrolled": true
   },
   "outputs": [
    {
     "data": {
      "text/plain": [
       "{'temp': 291.47,\n",
       " 'feels_like': 289.99,\n",
       " 'humidity': 48,\n",
       " 'clouds': 90,\n",
       " 'wind_speed': 1.15,\n",
       " 'rain': 0,\n",
       " 'snow': 0}"
      ]
     },
     "execution_count": 59,
     "metadata": {},
     "output_type": "execute_result"
    }
   ],
   "source": [
    "atx = get_weather(\"Austin\")\n",
    "atx"
   ]
  },
  {
   "cell_type": "code",
   "execution_count": 77,
   "metadata": {
    "ExecuteTime": {
     "end_time": "2020-10-24T22:58:05.484901Z",
     "start_time": "2020-10-24T22:58:05.046599Z"
    }
   },
   "outputs": [
    {
     "data": {
      "text/plain": [
       "{'temp': 302.68,\n",
       " 'feels_like': 300.61,\n",
       " 'humidity': 25,\n",
       " 'clouds': 90,\n",
       " 'wind_speed': 2.1,\n",
       " 'rain': 0,\n",
       " 'snow': 0}"
      ]
     },
     "execution_count": 77,
     "metadata": {},
     "output_type": "execute_result"
    }
   ],
   "source": [
    "phx = get_weather(\"Phoenix\")\n",
    "phx"
   ]
  },
  {
   "cell_type": "markdown",
   "metadata": {},
   "source": [
    "# Returning weather assessment\n",
    "\n",
    "A function for returning the predicted response of the user to the weather (negative or positive)"
   ]
  },
  {
   "cell_type": "code",
   "execution_count": 269,
   "metadata": {
    "ExecuteTime": {
     "end_time": "2020-10-25T01:24:45.194785Z",
     "start_time": "2020-10-25T01:24:45.187805Z"
    },
    "code_folding": [
     0
    ]
   },
   "outputs": [],
   "source": [
    "def assess_weather(weather_dict, user_preferences = None):\n",
    "    \"\"\"\n",
    "    Takes as input a dictionary with the weather parameters of interest:\n",
    "        - temp\n",
    "        - feels_like\n",
    "        - humidity\n",
    "        - clouds \n",
    "        - wind_speed\n",
    "        - rain\n",
    "        - snow\n",
    "    Current implementation looks for a dictionary with a 'main' key, coresponding to a subdictionary\n",
    "        which contains a 'temp' entry \n",
    "    Also takes user_preferences, a pandas dataframe with the same columns as weather_dict, but also has columns\n",
    "        - dt\n",
    "        - rating\n",
    "    If user_preferences = None, use default temp cutoff\n",
    "    \n",
    "    Returns -1 or 1, for negative or positive predicted user response to weather.\n",
    "    \"\"\"\n",
    "    temp = weather_dict['feels_like'] # temperature in Kelvin\n",
    "    if user_preferences is None or len(user_preferences) < 50:\n",
    "        if temp > 294: # 294K, 70 F \n",
    "            return 1\n",
    "        else:\n",
    "            return -1\n",
    "    else:\n",
    "        learned_preference_model = learn_preferences(user_preferences)\n",
    "        return learned_preference_model.predict(pd.DataFrame(weather_dict, index =[0]))"
   ]
  },
  {
   "cell_type": "markdown",
   "metadata": {},
   "source": [
    "## Learning user preferences\n",
    "\n",
    "Suppose that a user's opinion of the weather is based on the average temperature, temperature spread, precipitation, and cloud coverage. \n",
    "Further suppose that a user's weather preferences may be similar to the preferences in their region (for cold start). \n",
    "\n",
    "We can simply then either train on a user given their data, or if it's too small, append similar data from their region and treat that as the user preference. "
   ]
  },
  {
   "cell_type": "code",
   "execution_count": null,
   "metadata": {},
   "outputs": [],
   "source": [
    "2877392346\n",
    "3758465986"
   ]
  },
  {
   "cell_type": "code",
   "execution_count": 371,
   "metadata": {
    "ExecuteTime": {
     "end_time": "2020-10-25T06:32:25.474609Z",
     "start_time": "2020-10-25T06:32:25.463633Z"
    },
    "code_folding": []
   },
   "outputs": [],
   "source": [
    "def learn_preferences(user_preferences):\n",
    "    \"\"\"\n",
    "    Trains and returns a logistic regression model based on the user_preferences, which is a pd DataFrame with:\n",
    "        - dt\n",
    "        - temp\n",
    "        - feels_like\n",
    "        - humidity\n",
    "        - clouds \n",
    "        - wind_speed\n",
    "        - rain\n",
    "        - snow\n",
    "        - rating\n",
    "    \"\"\"\n",
    "    X, y = user_preferences.drop(['rating', 'dt'], axis = 1), user_preferences['rating']\n",
    "    lg = LogisticRegression(max_iter = 1000, C = .1)\n",
    "    cvals = np.linspace(0.1, 0.2, 4)\n",
    "    clf = GridSearchCV(lg, [{'C':cvals}], cv = 3)\n",
    "    return clf.fit(X, y)"
   ]
  },
  {
   "cell_type": "code",
   "execution_count": 372,
   "metadata": {
    "ExecuteTime": {
     "end_time": "2020-10-25T06:32:26.104481Z",
     "start_time": "2020-10-25T06:32:26.098500Z"
    }
   },
   "outputs": [
    {
     "data": {
      "text/plain": [
       "{'C': 0.13333333333333333}"
      ]
     },
     "execution_count": 372,
     "metadata": {},
     "output_type": "execute_result"
    }
   ],
   "source": [
    "fitted_params = learned_test_prefs.best_params_\n",
    "fitted_params"
   ]
  },
  {
   "cell_type": "code",
   "execution_count": 373,
   "metadata": {
    "ExecuteTime": {
     "end_time": "2020-10-25T06:32:26.307958Z",
     "start_time": "2020-10-25T06:32:26.300975Z"
    }
   },
   "outputs": [],
   "source": [
    "newmodel = LogisticRegression()\n",
    "newmodel.coef_ = fitted_params"
   ]
  },
  {
   "cell_type": "code",
   "execution_count": 374,
   "metadata": {
    "ExecuteTime": {
     "end_time": "2020-10-25T06:32:26.951915Z",
     "start_time": "2020-10-25T06:32:26.500780Z"
    },
    "scrolled": true
   },
   "outputs": [
    {
     "data": {
      "image/png": "[encoded data removed]",
      "text/plain": [
       "<Figure size 432x288 with 1 Axes>"
      ]
     },
     "metadata": {
      "needs_background": "light"
     },
     "output_type": "display_data"
    }
   ],
   "source": [
    "learned_test_prefs = learn_preferences(train_prefs)\n",
    "pred_ratings = learned_test_prefs.predict_proba(test_prefs.drop('dt', axis = 1))\n",
    "plt.scatter(train_prefs['temp'], train_prefs['rating'], label = 'train points')\n",
    "plt.scatter(test_prefs['temp'], [i[1] * 2 - 1 for i in pred_ratings], label = 'learned probability')\n",
    "plt.title('dummy data, T vs rating')\n",
    "plt.legend()\n",
    "plt.xlabel('T (K)')\n",
    "plt.ylabel('rating');"
   ]
  },
  {
   "cell_type": "code",
   "execution_count": 344,
   "metadata": {
    "ExecuteTime": {
     "end_time": "2020-10-25T06:27:16.133848Z",
     "start_time": "2020-10-25T06:27:16.109902Z"
    }
   },
   "outputs": [
    {
     "ename": "AttributeError",
     "evalue": "'LogisticRegression' object has no attribute 'classes_'",
     "output_type": "error",
     "traceback": [
      "\u001b[1;31m---------------------------------------------------------------------------\u001b[0m",
      "\u001b[1;31mAttributeError\u001b[0m                            Traceback (most recent call last)",
      "\u001b[1;32m<ipython-input-344-d892f494c93f>\u001b[0m in \u001b[0;36m<module>\u001b[1;34m\u001b[0m\n\u001b[1;32m----> 1\u001b[1;33m \u001b[0mnew_pred_ratings\u001b[0m \u001b[1;33m=\u001b[0m \u001b[0mnewmodel\u001b[0m\u001b[1;33m.\u001b[0m\u001b[0mpredict_proba\u001b[0m\u001b[1;33m(\u001b[0m\u001b[0mtest_prefs\u001b[0m\u001b[1;33m.\u001b[0m\u001b[0mdrop\u001b[0m\u001b[1;33m(\u001b[0m\u001b[1;34m'dt'\u001b[0m\u001b[1;33m,\u001b[0m \u001b[0maxis\u001b[0m \u001b[1;33m=\u001b[0m \u001b[1;36m1\u001b[0m\u001b[1;33m)\u001b[0m\u001b[1;33m)\u001b[0m\u001b[1;33m\u001b[0m\u001b[1;33m\u001b[0m\u001b[0m\n\u001b[0m\u001b[0;32m      2\u001b[0m \u001b[1;33m\u001b[0m\u001b[0m\n\u001b[0;32m      3\u001b[0m \u001b[0mplt\u001b[0m\u001b[1;33m.\u001b[0m\u001b[0mscatter\u001b[0m\u001b[1;33m(\u001b[0m\u001b[0mtrain_prefs\u001b[0m\u001b[1;33m[\u001b[0m\u001b[1;34m'temp'\u001b[0m\u001b[1;33m]\u001b[0m\u001b[1;33m,\u001b[0m \u001b[0mtrain_prefs\u001b[0m\u001b[1;33m[\u001b[0m\u001b[1;34m'rating'\u001b[0m\u001b[1;33m]\u001b[0m\u001b[1;33m,\u001b[0m \u001b[0mlabel\u001b[0m \u001b[1;33m=\u001b[0m \u001b[1;34m'train points'\u001b[0m\u001b[1;33m)\u001b[0m\u001b[1;33m\u001b[0m\u001b[1;33m\u001b[0m\u001b[0m\n\u001b[0;32m      4\u001b[0m \u001b[0mplt\u001b[0m\u001b[1;33m.\u001b[0m\u001b[0mscatter\u001b[0m\u001b[1;33m(\u001b[0m\u001b[0mtest_prefs\u001b[0m\u001b[1;33m[\u001b[0m\u001b[1;34m'temp'\u001b[0m\u001b[1;33m]\u001b[0m\u001b[1;33m,\u001b[0m \u001b[1;33m[\u001b[0m\u001b[0mi\u001b[0m\u001b[1;33m[\u001b[0m\u001b[1;36m1\u001b[0m\u001b[1;33m]\u001b[0m \u001b[1;33m*\u001b[0m \u001b[1;36m2\u001b[0m \u001b[1;33m-\u001b[0m \u001b[1;36m1\u001b[0m \u001b[1;32mfor\u001b[0m \u001b[0mi\u001b[0m \u001b[1;32min\u001b[0m \u001b[0mnew_pred_ratings\u001b[0m\u001b[1;33m]\u001b[0m\u001b[1;33m,\u001b[0m \u001b[0mlabel\u001b[0m \u001b[1;33m=\u001b[0m \u001b[1;34m'learned probability'\u001b[0m\u001b[1;33m)\u001b[0m\u001b[1;33m\u001b[0m\u001b[1;33m\u001b[0m\u001b[0m\n\u001b[0;32m      5\u001b[0m \u001b[0mplt\u001b[0m\u001b[1;33m.\u001b[0m\u001b[0mtitle\u001b[0m\u001b[1;33m(\u001b[0m\u001b[1;34m'dummy data, T vs rating'\u001b[0m\u001b[1;33m)\u001b[0m\u001b[1;33m\u001b[0m\u001b[1;33m\u001b[0m\u001b[0m\n",
      "\u001b[1;32mc:\\users\\ckaiw.laptop-thcc7rlj\\appdata\\local\\programs\\python\\python37\\lib\\site-packages\\sklearn\\linear_model\\_logistic.py\u001b[0m in \u001b[0;36mpredict_proba\u001b[1;34m(self, X)\u001b[0m\n\u001b[0;32m   1463\u001b[0m \u001b[1;33m\u001b[0m\u001b[0m\n\u001b[0;32m   1464\u001b[0m         ovr = (self.multi_class in [\"ovr\", \"warn\"] or\n\u001b[1;32m-> 1465\u001b[1;33m                (self.multi_class == 'auto' and (self.classes_.size <= 2 or\n\u001b[0m\u001b[0;32m   1466\u001b[0m                                                 self.solver == 'liblinear')))\n\u001b[0;32m   1467\u001b[0m         \u001b[1;32mif\u001b[0m \u001b[0movr\u001b[0m\u001b[1;33m:\u001b[0m\u001b[1;33m\u001b[0m\u001b[1;33m\u001b[0m\u001b[0m\n",
      "\u001b[1;31mAttributeError\u001b[0m: 'LogisticRegression' object has no attribute 'classes_'"
     ]
    }
   ],
   "source": [
    "new_pred_ratings = newmodel.predict_proba(test_prefs.drop('dt', axis = 1))\n",
    "\n",
    "plt.scatter(train_prefs['temp'], train_prefs['rating'], label = 'train points')\n",
    "plt.scatter(test_prefs['temp'], [i[1] * 2 - 1 for i in new_pred_ratings], label = 'learned probability')\n",
    "plt.title('dummy data, T vs rating')\n",
    "plt.legend()\n",
    "plt.xlabel('T (K)')\n",
    "plt.ylabel('rating');"
   ]
  },
  {
   "cell_type": "markdown",
   "metadata": {},
   "source": [
    "## Tests"
   ]
  },
  {
   "cell_type": "code",
   "execution_count": 250,
   "metadata": {
    "ExecuteTime": {
     "end_time": "2020-10-25T01:22:07.172991Z",
     "start_time": "2020-10-25T01:22:07.167965Z"
    },
    "scrolled": true
   },
   "outputs": [
    {
     "data": {
      "text/plain": [
       "-1"
      ]
     },
     "execution_count": 250,
     "metadata": {},
     "output_type": "execute_result"
    }
   ],
   "source": [
    "assess_weather(atx, None)"
   ]
  },
  {
   "cell_type": "code",
   "execution_count": 251,
   "metadata": {
    "ExecuteTime": {
     "end_time": "2020-10-25T01:22:07.343885Z",
     "start_time": "2020-10-25T01:22:07.337902Z"
    }
   },
   "outputs": [
    {
     "data": {
      "text/plain": [
       "1"
      ]
     },
     "execution_count": 251,
     "metadata": {},
     "output_type": "execute_result"
    }
   ],
   "source": [
    "assess_weather(phx, None)"
   ]
  },
  {
   "cell_type": "code",
   "execution_count": 279,
   "metadata": {
    "ExecuteTime": {
     "end_time": "2020-10-25T01:28:26.916438Z",
     "start_time": "2020-10-25T01:28:22.608508Z"
    }
   },
   "outputs": [
    {
     "data": {
      "text/plain": [
       "array([-1], dtype=int64)"
      ]
     },
     "execution_count": 279,
     "metadata": {},
     "output_type": "execute_result"
    }
   ],
   "source": [
    "assess_weather(atx, train_prefs)"
   ]
  },
  {
   "cell_type": "markdown",
   "metadata": {},
   "source": [
    "# Recommendation on sad days\n",
    "\n",
    "For this, we can have a few simple options\n",
    "* Inspirational quote\n",
    "    * Weather related quotes? \n",
    "    * Fun facts\n",
    "* Recommendation for mitigating the negative effect of the weather directly (umbrella, sunscreen, etc) \n",
    "* Netflix recommendation"
   ]
  },
  {
   "cell_type": "code",
   "execution_count": 286,
   "metadata": {
    "ExecuteTime": {
     "end_time": "2020-10-25T01:50:02.397998Z",
     "start_time": "2020-10-25T01:50:02.390020Z"
    }
   },
   "outputs": [
    {
     "data": {
      "text/plain": [
       "{'temp': 291.47,\n",
       " 'feels_like': 289.99,\n",
       " 'humidity': 48,\n",
       " 'clouds': 90,\n",
       " 'wind_speed': 1.15,\n",
       " 'rain': 0,\n",
       " 'snow': 0}"
      ]
     },
     "execution_count": 286,
     "metadata": {},
     "output_type": "execute_result"
    }
   ],
   "source": [
    "atx"
   ]
  },
  {
   "cell_type": "code",
   "execution_count": 316,
   "metadata": {
    "ExecuteTime": {
     "end_time": "2020-10-25T02:43:41.024553Z",
     "start_time": "2020-10-25T02:43:41.014582Z"
    },
    "code_folding": [
     0
    ]
   },
   "outputs": [],
   "source": [
    "def bad_weather_rec(weather):\n",
    "    \"\"\"\n",
    "    To be called in case of user-disliked weather. \n",
    "    Returns (currently) just a fun pun to be displayed instead of actual weather data. \n",
    "    \"\"\"\n",
    "    output = \"\"\n",
    "    if weather['rain'] > 0:\n",
    "        output +=  np.random.choice([\n",
    "            \"People using umbrellas always seem to be under the weather.\\n\\n\"\n",
    "        ])\n",
    "    if weather['snow'] > 0:\n",
    "        output += np.random.choice([\n",
    "            \"The snowstorm arrived at a fortuitous moment. \\nIt was white on time.\\n\\n\"\n",
    "        ])\n",
    "    if weather['clouds'] > 50:\n",
    "        output += np.random.choice([\n",
    "            \"What did one raindrop say to the other? \\nTwo’s company, three’s a cloud. \\n\\n\"\n",
    "        ])\n",
    "    if weather['feels_like'] < 273:\n",
    "        output += np.random.choice([\n",
    "            \"Cold winter weather is snow laughing matter!\\n\\n\"\n",
    "        ])\n",
    "    if weather['feels_like'] > 303:\n",
    "        output += np.random.choice([\n",
    "            \"I received a message from the sun, it was enlightening.\\n\\n\"\n",
    "        ])\n",
    "    if weather['humidity'] > 50: \n",
    "        output += np.random.choice([\n",
    "            \"The secretary left me a message saying humidity will hit 90% today... She wrote it on a sticky note \\n\\n\"\n",
    "        ])\n",
    "    if weather['wind_speed'] > 30:\n",
    "        output += np.random.choice([\n",
    "            \"Coming up with weather puns is a breeze. \\n\\n\"\n",
    "        ])\n",
    "    return output\n",
    "    "
   ]
  },
  {
   "cell_type": "code",
   "execution_count": 317,
   "metadata": {
    "ExecuteTime": {
     "end_time": "2020-10-25T02:43:41.230680Z",
     "start_time": "2020-10-25T02:43:41.225692Z"
    }
   },
   "outputs": [
    {
     "name": "stdout",
     "output_type": "stream",
     "text": [
      "What did one raindrop say to the other? \n",
      "Two’s company, three’s a cloud. \n",
      "\n",
      "\n"
     ]
    }
   ],
   "source": [
    "s = bad_weather_rec(atx)\n",
    "print(s)"
   ]
  },
  {
   "cell_type": "markdown",
   "metadata": {},
   "source": [
    "# Give result to user\n",
    "\n",
    "* Assume the existence of a function `get_user_preferences` that takes a UUID and returns a Pandas DataFrame with columns `dt, temp, humidity, wind_speed, clouds, rain, rating` and a row for each time the user rated the weather.\n",
    "* Assume also the existence of a function `get_city` that takes a UUID and returns the city associated with the user. "
   ]
  },
  {
   "cell_type": "code",
   "execution_count": 281,
   "metadata": {
    "ExecuteTime": {
     "end_time": "2020-10-25T01:31:33.513688Z",
     "start_time": "2020-10-25T01:31:33.508675Z"
    },
    "code_folding": [
     0
    ]
   },
   "outputs": [],
   "source": [
    "def get_city(userID):\n",
    "    \"\"\"\n",
    "    Takes userID, looks up their city from DB\n",
    "    \"\"\"\n",
    "#     TODO: make this work properly\n",
    "    return \"Austin\""
   ]
  },
  {
   "cell_type": "code",
   "execution_count": 282,
   "metadata": {
    "ExecuteTime": {
     "end_time": "2020-10-25T01:32:39.822201Z",
     "start_time": "2020-10-25T01:32:39.816509Z"
    },
    "code_folding": [
     0
    ]
   },
   "outputs": [],
   "source": [
    "def get_user_preferences(userID):\n",
    "    \"\"\"\n",
    "    Takes userID, returns a pandas df of their user preferences\n",
    "    \"\"\"\n",
    "#     TODO: make this work properly\n",
    "    return train_prefs"
   ]
  },
  {
   "cell_type": "code",
   "execution_count": 283,
   "metadata": {
    "ExecuteTime": {
     "end_time": "2020-10-25T01:36:08.315637Z",
     "start_time": "2020-10-25T01:36:08.308658Z"
    },
    "code_folding": [
     0
    ]
   },
   "outputs": [],
   "source": [
    "def main(userID):\n",
    "    user_preferences = get_user_preferences(userID)\n",
    "    city = get_city(userID)   \n",
    "    weather = get_weather(city)\n",
    "    \n",
    "#     TODO\n",
    "#     similar_preferences = get_similar_preferences(userID, numsamples = 100)\n",
    "#     TODO\n",
    "    \n",
    "    user_assessment = assess_weather(weather, user_preferences)\n",
    "    if user_assessment == 1:\n",
    "        return weather\n",
    "    elif user_assessment == -1:\n",
    "        return bad_weather_rec()"
   ]
  },
  {
   "cell_type": "code",
   "execution_count": 285,
   "metadata": {
    "ExecuteTime": {
     "end_time": "2020-10-25T01:36:25.545214Z",
     "start_time": "2020-10-25T01:36:18.677724Z"
    }
   },
   "outputs": [
    {
     "data": {
      "text/plain": [
       "'The greatest glory in living lies not in never falling, but in rising every time we fall.'"
      ]
     },
     "execution_count": 285,
     "metadata": {},
     "output_type": "execute_result"
    }
   ],
   "source": [
    "main('asdf')"
   ]
  }
 ],
 "metadata": {
  "kernelspec": {
   "display_name": "Python 3",
   "language": "python",
   "name": "python3"
  },
  "language_info": {
   "codemirror_mode": {
    "name": "ipython",
    "version": 3
   },
   "file_extension": ".py",
   "mimetype": "text/x-python",
   "name": "python",
   "nbconvert_exporter": "python",
   "pygments_lexer": "ipython3",
   "version": "3.7.2"
  },
  "latex_envs": {
   "LaTeX_envs_menu_present": true,
   "autoclose": false,
   "autocomplete": true,
   "bibliofile": "biblio.bib",
   "cite_by": "apalike",
   "current_citInitial": 1,
   "eqLabelWithNumbers": true,
   "eqNumInitial": 1,
   "hotkeys": {
    "equation": "Ctrl-E",
    "itemize": "Ctrl-I"
   },
   "labels_anchors": false,
   "latex_user_defs": false,
   "report_style_numbering": false,
   "user_envs_cfg": false
  },
  "toc": {
   "base_numbering": 1,
   "nav_menu": {},
   "number_sections": true,
   "sideBar": true,
   "skip_h1_title": false,
   "title_cell": "Table of Contents",
   "title_sidebar": "Contents",
   "toc_cell": false,
   "toc_position": {},
   "toc_section_display": true,
   "toc_window_display": false
  },
  "varInspector": {
   "cols": {
    "lenName": 16,
    "lenType": 16,
    "lenVar": 40
   },
   "kernels_config": {
    "python": {
     "delete_cmd_postfix": "",
     "delete_cmd_prefix": "del ",
     "library": "var_list.py",
     "varRefreshCmd": "print(var_dic_list())"
    },
    "r": {
     "delete_cmd_postfix": ") ",
     "delete_cmd_prefix": "rm(",
     "library": "var_list.r",
     "varRefreshCmd": "cat(var_dic_list()) "
    }
   },
   "types_to_exclude": [
    "module",
    "function",
    "builtin_function_or_method",
    "instance",
    "_Feature"
   ],
   "window_display": false
  }
 },
 "nbformat": 4,
 "nbformat_minor": 2
}
