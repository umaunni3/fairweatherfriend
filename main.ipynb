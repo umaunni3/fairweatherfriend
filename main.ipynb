{
 "cells": [
  {
   "cell_type": "markdown",
   "metadata": {},
   "source": [
    "# Imports"
   ]
  },
  {
   "cell_type": "code",
   "execution_count": 1,
   "metadata": {
    "ExecuteTime": {
     "end_time": "2020-10-24T18:09:43.467078Z",
     "start_time": "2020-10-24T18:09:43.316483Z"
    }
   },
   "outputs": [],
   "source": [
    "# import required modules \n",
    "import requests, json "
   ]
  },
  {
   "cell_type": "markdown",
   "metadata": {},
   "source": [
    "# Pulling weather data"
   ]
  },
  {
   "cell_type": "markdown",
   "metadata": {},
   "source": [
    "Code from https://www.geeksforgeeks.org/python-find-current-weather-of-any-city-using-openweathermap-api/"
   ]
  },
  {
   "cell_type": "code",
   "execution_count": 11,
   "metadata": {
    "ExecuteTime": {
     "end_time": "2020-10-24T18:38:08.195177Z",
     "start_time": "2020-10-24T18:38:08.188247Z"
    }
   },
   "outputs": [],
   "source": [
    "def get_weather(city_name):\n",
    "    \"\"\"\n",
    "    Takes a city name, and returns a dictionary of weather and location data. \n",
    "    \"\"\"\n",
    "    # Python program to find current  \n",
    "    # weather details of any city \n",
    "    # using openweathermap api \n",
    "\n",
    "    # Enter your API key here \n",
    "    api_key = \"9291be5e6daedb7e3a4a03f8857a8d5f\"\n",
    "\n",
    "    # base_url variable to store url \n",
    "    base_url = \"http://api.openweathermap.org/data/2.5/weather?\"\n",
    "\n",
    "    # complete_url variable to store \n",
    "    # complete url address \n",
    "    complete_url = base_url + \"appid=\" + api_key + \"&q=\" + city_name \n",
    "\n",
    "    # get method of requests module \n",
    "    # return response object \n",
    "    response = requests.get(complete_url) \n",
    "\n",
    "    # json method of response object  \n",
    "    # convert json format data into \n",
    "    # python format data \n",
    "    x = response.json() \n",
    "    \n",
    "    # Now x contains list of nested dictionaries \n",
    "    # Check the value of \"cod\" key is equal to \n",
    "    # \"404\", means city is found otherwise, \n",
    "    # city is not found \n",
    "    if x[\"cod\"] != \"404\": \n",
    "        return x\n",
    "    else: \n",
    "        print(\" City Not Found \") \n",
    "        return None"
   ]
  },
  {
   "cell_type": "code",
   "execution_count": 13,
   "metadata": {
    "ExecuteTime": {
     "end_time": "2020-10-24T18:45:43.712031Z",
     "start_time": "2020-10-24T18:45:43.528815Z"
    }
   },
   "outputs": [
    {
     "data": {
      "text/plain": [
       "{'coord': {'lon': -97.74, 'lat': 30.27},\n",
       " 'weather': [{'id': 804,\n",
       "   'main': 'Clouds',\n",
       "   'description': 'overcast clouds',\n",
       "   'icon': '04d'}],\n",
       " 'base': 'stations',\n",
       " 'main': {'temp': 288.73,\n",
       "  'feels_like': 285.71,\n",
       "  'temp_min': 287.59,\n",
       "  'temp_max': 289.26,\n",
       "  'pressure': 1021,\n",
       "  'humidity': 48},\n",
       " 'visibility': 10000,\n",
       " 'wind': {'speed': 2.6, 'deg': 0},\n",
       " 'clouds': {'all': 90},\n",
       " 'dt': 1603564570,\n",
       " 'sys': {'type': 1,\n",
       "  'id': 3344,\n",
       "  'country': 'US',\n",
       "  'sunrise': 1603543170,\n",
       "  'sunset': 1603583423},\n",
       " 'timezone': -18000,\n",
       " 'id': 4671654,\n",
       " 'name': 'Austin',\n",
       " 'cod': 200}"
      ]
     },
     "execution_count": 13,
     "metadata": {},
     "output_type": "execute_result"
    }
   ],
   "source": [
    "atx = get_weather(\"Austin\")\n",
    "atx"
   ]
  },
  {
   "cell_type": "markdown",
   "metadata": {},
   "source": [
    "# Returning weather assessment\n",
    "\n",
    "A function for returning the predicted response of the user to the weather (negative or positive)"
   ]
  },
  {
   "cell_type": "code",
   "execution_count": 15,
   "metadata": {
    "ExecuteTime": {
     "end_time": "2020-10-24T18:46:51.800057Z",
     "start_time": "2020-10-24T18:46:51.796053Z"
    }
   },
   "outputs": [],
   "source": [
    "def assess_weather(weather_dict):\n",
    "    \"\"\"\n",
    "    Takes as input a dictionary with the weather parameters of interest. \n",
    "    Current implementation looks for a dictionary with a 'main' key, coresponding to a subdictionary\n",
    "        which contains a 'temp' entry \n",
    "    Returns -1 or 1, for negative or positive predicted user response to weather.\n",
    "    \"\"\"\n",
    "    temp = weather_dict['main']['temp'] # temperature in Kelvin\n",
    "    if temp > 294: # corresponds to 70 F \n",
    "        return 1\n",
    "    else:\n",
    "        return -1"
   ]
  },
  {
   "cell_type": "code",
   "execution_count": 16,
   "metadata": {
    "ExecuteTime": {
     "end_time": "2020-10-24T18:46:58.199563Z",
     "start_time": "2020-10-24T18:46:58.195531Z"
    }
   },
   "outputs": [
    {
     "data": {
      "text/plain": [
       "-1"
      ]
     },
     "execution_count": 16,
     "metadata": {},
     "output_type": "execute_result"
    }
   ],
   "source": [
    "assess_weather(atx)"
   ]
  },
  {
   "cell_type": "markdown",
   "metadata": {},
   "source": [
    "# "
   ]
  }
 ],
 "metadata": {
  "kernelspec": {
   "display_name": "Python 3",
   "language": "python",
   "name": "python3"
  },
  "language_info": {
   "codemirror_mode": {
    "name": "ipython",
    "version": 3
   },
   "file_extension": ".py",
   "mimetype": "text/x-python",
   "name": "python",
   "nbconvert_exporter": "python",
   "pygments_lexer": "ipython3",
   "version": "3.7.2"
  },
  "latex_envs": {
   "LaTeX_envs_menu_present": true,
   "autoclose": false,
   "autocomplete": true,
   "bibliofile": "biblio.bib",
   "cite_by": "apalike",
   "current_citInitial": 1,
   "eqLabelWithNumbers": true,
   "eqNumInitial": 1,
   "hotkeys": {
    "equation": "Ctrl-E",
    "itemize": "Ctrl-I"
   },
   "labels_anchors": false,
   "latex_user_defs": false,
   "report_style_numbering": false,
   "user_envs_cfg": false
  },
  "toc": {
   "base_numbering": 1,
   "nav_menu": {},
   "number_sections": true,
   "sideBar": true,
   "skip_h1_title": false,
   "title_cell": "Table of Contents",
   "title_sidebar": "Contents",
   "toc_cell": false,
   "toc_position": {},
   "toc_section_display": true,
   "toc_window_display": false
  },
  "varInspector": {
   "cols": {
    "lenName": 16,
    "lenType": 16,
    "lenVar": 40
   },
   "kernels_config": {
    "python": {
     "delete_cmd_postfix": "",
     "delete_cmd_prefix": "del ",
     "library": "var_list.py",
     "varRefreshCmd": "print(var_dic_list())"
    },
    "r": {
     "delete_cmd_postfix": ") ",
     "delete_cmd_prefix": "rm(",
     "library": "var_list.r",
     "varRefreshCmd": "cat(var_dic_list()) "
    }
   },
   "types_to_exclude": [
    "module",
    "function",
    "builtin_function_or_method",
    "instance",
    "_Feature"
   ],
   "window_display": false
  }
 },
 "nbformat": 4,
 "nbformat_minor": 2
}
